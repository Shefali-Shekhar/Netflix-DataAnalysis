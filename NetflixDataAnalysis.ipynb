{
 "cells": [
  {
   "cell_type": "markdown",
   "id": "704e8898",
   "metadata": {},
   "source": [
    "# Importing Libraries"
   ]
  },
  {
   "cell_type": "code",
   "execution_count": 118,
   "id": "f7557ddc",
   "metadata": {},
   "outputs": [],
   "source": [
    "import pandas as pd\n",
    "import matplotlib.pyplot as plt\n",
    "import seaborn as sns\n",
    "import numpy as np"
   ]
  },
  {
   "cell_type": "markdown",
   "id": "bd7da2b7",
   "metadata": {},
   "source": [
    "# Importing File"
   ]
  },
  {
   "cell_type": "code",
   "execution_count": 119,
   "id": "93d73400",
   "metadata": {},
   "outputs": [
    {
     "data": {
      "text/html": [
       "<div>\n",
       "<style scoped>\n",
       "    .dataframe tbody tr th:only-of-type {\n",
       "        vertical-align: middle;\n",
       "    }\n",
       "\n",
       "    .dataframe tbody tr th {\n",
       "        vertical-align: top;\n",
       "    }\n",
       "\n",
       "    .dataframe thead th {\n",
       "        text-align: right;\n",
       "    }\n",
       "</style>\n",
       "<table border=\"1\" class=\"dataframe\">\n",
       "  <thead>\n",
       "    <tr style=\"text-align: right;\">\n",
       "      <th></th>\n",
       "      <th>Type</th>\n",
       "      <th>Title</th>\n",
       "      <th>Director</th>\n",
       "      <th>Cast</th>\n",
       "      <th>Country</th>\n",
       "      <th>Release_year</th>\n",
       "      <th>Genres</th>\n",
       "    </tr>\n",
       "  </thead>\n",
       "  <tbody>\n",
       "    <tr>\n",
       "      <th>0</th>\n",
       "      <td>Movie</td>\n",
       "      <td>Dick Johnson Is Dead</td>\n",
       "      <td>Kirsten Johnson</td>\n",
       "      <td>NaN</td>\n",
       "      <td>United States</td>\n",
       "      <td>2020</td>\n",
       "      <td>Documentaries</td>\n",
       "    </tr>\n",
       "    <tr>\n",
       "      <th>1</th>\n",
       "      <td>TV Show</td>\n",
       "      <td>Blood &amp; Water</td>\n",
       "      <td>NaN</td>\n",
       "      <td>Ama Qamata, Khosi Ngema, Gail Mabalane, Thaban...</td>\n",
       "      <td>South Africa</td>\n",
       "      <td>2021</td>\n",
       "      <td>International TV Shows, TV Dramas, TV Mysteries</td>\n",
       "    </tr>\n",
       "    <tr>\n",
       "      <th>2</th>\n",
       "      <td>TV Show</td>\n",
       "      <td>Ganglands</td>\n",
       "      <td>Julien Leclercq</td>\n",
       "      <td>Sami Bouajila, Tracy Gotoas, Samuel Jouy, Nabi...</td>\n",
       "      <td>NaN</td>\n",
       "      <td>2021</td>\n",
       "      <td>Crime TV Shows, International TV Shows, TV Act...</td>\n",
       "    </tr>\n",
       "    <tr>\n",
       "      <th>3</th>\n",
       "      <td>TV Show</td>\n",
       "      <td>Jailbirds New Orleans</td>\n",
       "      <td>NaN</td>\n",
       "      <td>NaN</td>\n",
       "      <td>NaN</td>\n",
       "      <td>2021</td>\n",
       "      <td>Docuseries, Reality TV</td>\n",
       "    </tr>\n",
       "    <tr>\n",
       "      <th>4</th>\n",
       "      <td>TV Show</td>\n",
       "      <td>Kota Factory</td>\n",
       "      <td>NaN</td>\n",
       "      <td>Mayur More, Jitendra Kumar, Ranjan Raj, Alam K...</td>\n",
       "      <td>India</td>\n",
       "      <td>2021</td>\n",
       "      <td>International TV Shows, Romantic TV Shows, TV ...</td>\n",
       "    </tr>\n",
       "  </tbody>\n",
       "</table>\n",
       "</div>"
      ],
      "text/plain": [
       "      Type                  Title         Director  \\\n",
       "0    Movie   Dick Johnson Is Dead  Kirsten Johnson   \n",
       "1  TV Show          Blood & Water              NaN   \n",
       "2  TV Show              Ganglands  Julien Leclercq   \n",
       "3  TV Show  Jailbirds New Orleans              NaN   \n",
       "4  TV Show           Kota Factory              NaN   \n",
       "\n",
       "                                                Cast        Country  \\\n",
       "0                                                NaN  United States   \n",
       "1  Ama Qamata, Khosi Ngema, Gail Mabalane, Thaban...   South Africa   \n",
       "2  Sami Bouajila, Tracy Gotoas, Samuel Jouy, Nabi...            NaN   \n",
       "3                                                NaN            NaN   \n",
       "4  Mayur More, Jitendra Kumar, Ranjan Raj, Alam K...          India   \n",
       "\n",
       "   Release_year                                             Genres  \n",
       "0          2020                                      Documentaries  \n",
       "1          2021    International TV Shows, TV Dramas, TV Mysteries  \n",
       "2          2021  Crime TV Shows, International TV Shows, TV Act...  \n",
       "3          2021                             Docuseries, Reality TV  \n",
       "4          2021  International TV Shows, Romantic TV Shows, TV ...  "
      ]
     },
     "execution_count": 119,
     "metadata": {},
     "output_type": "execute_result"
    }
   ],
   "source": [
    "df = pd.read_excel(\"netflix.xlsx\")\n",
    "df.head()"
   ]
  },
  {
   "cell_type": "markdown",
   "id": "9045ad0d",
   "metadata": {},
   "source": [
    "# Exploratory Data Analysis & Data Cleaning"
   ]
  },
  {
   "cell_type": "code",
   "execution_count": 120,
   "id": "86432766",
   "metadata": {},
   "outputs": [
    {
     "data": {
      "text/plain": [
       "(8807, 7)"
      ]
     },
     "execution_count": 120,
     "metadata": {},
     "output_type": "execute_result"
    }
   ],
   "source": [
    "df.shape"
   ]
  },
  {
   "cell_type": "code",
   "execution_count": 121,
   "id": "ac69ca8b",
   "metadata": {},
   "outputs": [
    {
     "name": "stdout",
     "output_type": "stream",
     "text": [
      "<class 'pandas.core.frame.DataFrame'>\n",
      "RangeIndex: 8807 entries, 0 to 8806\n",
      "Data columns (total 7 columns):\n",
      " #   Column        Non-Null Count  Dtype \n",
      "---  ------        --------------  ----- \n",
      " 0   Type          8807 non-null   object\n",
      " 1   Title         8807 non-null   object\n",
      " 2   Director      6173 non-null   object\n",
      " 3   Cast          7982 non-null   object\n",
      " 4   Country       7976 non-null   object\n",
      " 5   Release_year  8807 non-null   int64 \n",
      " 6   Genres        8807 non-null   object\n",
      "dtypes: int64(1), object(6)\n",
      "memory usage: 481.8+ KB\n"
     ]
    }
   ],
   "source": [
    "df.info()"
   ]
  },
  {
   "cell_type": "code",
   "execution_count": 122,
   "id": "3c7d74ab",
   "metadata": {},
   "outputs": [
    {
     "data": {
      "text/plain": [
       "Type               0\n",
       "Title              0\n",
       "Director        2634\n",
       "Cast             825\n",
       "Country          831\n",
       "Release_year       0\n",
       "Genres             0\n",
       "dtype: int64"
      ]
     },
     "execution_count": 122,
     "metadata": {},
     "output_type": "execute_result"
    }
   ],
   "source": [
    "df.isnull().sum()"
   ]
  },
  {
   "cell_type": "code",
   "execution_count": 123,
   "id": "9770ca68",
   "metadata": {},
   "outputs": [
    {
     "data": {
      "text/plain": [
       "(8711, 7)"
      ]
     },
     "execution_count": 123,
     "metadata": {},
     "output_type": "execute_result"
    }
   ],
   "source": [
    "# Droping rows were all 3 values are missing\n",
    "\n",
    "df.dropna(subset=['Director', 'Cast', 'Country'], how='all', inplace=True)\n",
    "df.shape"
   ]
  },
  {
   "cell_type": "code",
   "execution_count": 124,
   "id": "af0851cb",
   "metadata": {},
   "outputs": [
    {
     "data": {
      "text/plain": [
       "Type            0\n",
       "Title           0\n",
       "Director        0\n",
       "Cast            0\n",
       "Country         0\n",
       "Release_year    0\n",
       "Genres          0\n",
       "dtype: int64"
      ]
     },
     "execution_count": 124,
     "metadata": {},
     "output_type": "execute_result"
    }
   ],
   "source": [
    "# Impute missing values in the remaining rows with 'Unknown'\n",
    "\n",
    "df['Director'].fillna('Unknown', inplace=True)\n",
    "df['Cast'].fillna('Unknown', inplace=True)\n",
    "df['Country'].fillna('Unknown', inplace=True)\n",
    "\n",
    "df.isnull().sum()"
   ]
  },
  {
   "cell_type": "code",
   "execution_count": 125,
   "id": "04285c65",
   "metadata": {},
   "outputs": [
    {
     "name": "stdout",
     "output_type": "stream",
     "text": [
      "Type: 2\n",
      "\n",
      "Title: 8711\n",
      "\n",
      "Director: 4529\n",
      "\n",
      "Cast: 7693\n",
      "\n",
      "Country: 749\n",
      "\n",
      "Release_year: 73\n",
      "\n",
      "Genres: 512\n",
      "\n"
     ]
    }
   ],
   "source": [
    "# Count of unique values in each column\n",
    "\n",
    "for col in df:\n",
    "    print(f'{col}: {df[col].nunique()}\\n')"
   ]
  },
  {
   "cell_type": "code",
   "execution_count": 126,
   "id": "e80cc77f",
   "metadata": {},
   "outputs": [
    {
     "data": {
      "text/html": [
       "<div>\n",
       "<style scoped>\n",
       "    .dataframe tbody tr th:only-of-type {\n",
       "        vertical-align: middle;\n",
       "    }\n",
       "\n",
       "    .dataframe tbody tr th {\n",
       "        vertical-align: top;\n",
       "    }\n",
       "\n",
       "    .dataframe thead th {\n",
       "        text-align: right;\n",
       "    }\n",
       "</style>\n",
       "<table border=\"1\" class=\"dataframe\">\n",
       "  <thead>\n",
       "    <tr style=\"text-align: right;\">\n",
       "      <th></th>\n",
       "      <th>Type</th>\n",
       "      <th>Title</th>\n",
       "      <th>Director</th>\n",
       "      <th>Cast</th>\n",
       "      <th>Country</th>\n",
       "      <th>Release_year</th>\n",
       "      <th>Genres</th>\n",
       "    </tr>\n",
       "  </thead>\n",
       "  <tbody>\n",
       "    <tr>\n",
       "      <th>0</th>\n",
       "      <td>Movie</td>\n",
       "      <td>Dick Johnson Is Dead</td>\n",
       "      <td>Kirsten Johnson</td>\n",
       "      <td>Unknown</td>\n",
       "      <td>United States</td>\n",
       "      <td>2020</td>\n",
       "      <td>Documentaries</td>\n",
       "    </tr>\n",
       "    <tr>\n",
       "      <th>1</th>\n",
       "      <td>TV Show</td>\n",
       "      <td>Blood &amp; Water</td>\n",
       "      <td>Unknown</td>\n",
       "      <td>Ama Qamata, Khosi Ngema, Gail Mabalane, Thaban...</td>\n",
       "      <td>South Africa</td>\n",
       "      <td>2021</td>\n",
       "      <td>International TV Shows, TV Dramas, TV Mysteries</td>\n",
       "    </tr>\n",
       "    <tr>\n",
       "      <th>2</th>\n",
       "      <td>TV Show</td>\n",
       "      <td>Ganglands</td>\n",
       "      <td>Julien Leclercq</td>\n",
       "      <td>Sami Bouajila, Tracy Gotoas, Samuel Jouy, Nabi...</td>\n",
       "      <td>Unknown</td>\n",
       "      <td>2021</td>\n",
       "      <td>Crime TV Shows, International TV Shows, TV Act...</td>\n",
       "    </tr>\n",
       "    <tr>\n",
       "      <th>4</th>\n",
       "      <td>TV Show</td>\n",
       "      <td>Kota Factory</td>\n",
       "      <td>Unknown</td>\n",
       "      <td>Mayur More, Jitendra Kumar, Ranjan Raj, Alam K...</td>\n",
       "      <td>India</td>\n",
       "      <td>2021</td>\n",
       "      <td>International TV Shows, Romantic TV Shows, TV ...</td>\n",
       "    </tr>\n",
       "    <tr>\n",
       "      <th>5</th>\n",
       "      <td>TV Show</td>\n",
       "      <td>Midnight Mass</td>\n",
       "      <td>Mike Flanagan</td>\n",
       "      <td>Kate Siegel, Zach Gilford, Hamish Linklater, H...</td>\n",
       "      <td>Unknown</td>\n",
       "      <td>2021</td>\n",
       "      <td>TV Dramas, TV Horror, TV Mysteries</td>\n",
       "    </tr>\n",
       "  </tbody>\n",
       "</table>\n",
       "</div>"
      ],
      "text/plain": [
       "      Type                 Title         Director  \\\n",
       "0    Movie  Dick Johnson Is Dead  Kirsten Johnson   \n",
       "1  TV Show         Blood & Water          Unknown   \n",
       "2  TV Show             Ganglands  Julien Leclercq   \n",
       "4  TV Show          Kota Factory          Unknown   \n",
       "5  TV Show         Midnight Mass    Mike Flanagan   \n",
       "\n",
       "                                                Cast        Country  \\\n",
       "0                                            Unknown  United States   \n",
       "1  Ama Qamata, Khosi Ngema, Gail Mabalane, Thaban...   South Africa   \n",
       "2  Sami Bouajila, Tracy Gotoas, Samuel Jouy, Nabi...        Unknown   \n",
       "4  Mayur More, Jitendra Kumar, Ranjan Raj, Alam K...          India   \n",
       "5  Kate Siegel, Zach Gilford, Hamish Linklater, H...        Unknown   \n",
       "\n",
       "   Release_year                                             Genres  \n",
       "0          2020                                      Documentaries  \n",
       "1          2021    International TV Shows, TV Dramas, TV Mysteries  \n",
       "2          2021  Crime TV Shows, International TV Shows, TV Act...  \n",
       "4          2021  International TV Shows, Romantic TV Shows, TV ...  \n",
       "5          2021                 TV Dramas, TV Horror, TV Mysteries  "
      ]
     },
     "execution_count": 126,
     "metadata": {},
     "output_type": "execute_result"
    }
   ],
   "source": [
    "# Displaying First few rows\n",
    "\n",
    "df.head()"
   ]
  },
  {
   "cell_type": "markdown",
   "id": "50b632b5",
   "metadata": {},
   "source": [
    "# Visualizations & Insights"
   ]
  },
  {
   "cell_type": "markdown",
   "id": "91ebbb15",
   "metadata": {},
   "source": [
    "# 1. Content type distribution: Netflix offers both movies and TV shows on its platform, A bar chart below shows the distribution of content types."
   ]
  },
  {
   "cell_type": "code",
   "execution_count": 127,
   "id": "59d0fa64",
   "metadata": {},
   "outputs": [
    {
     "data": {
      "image/png": "[encoded data removed]",
      "text/plain": [
       "<Figure size 800x600 with 1 Axes>"
      ]
     },
     "metadata": {},
     "output_type": "display_data"
    }
   ],
   "source": [
    "sns.set_style('darkgrid')\n",
    "\n",
    "# Count the number of movies and TV shows\n",
    "content_type_counts = df['Type'].value_counts()\n",
    "\n",
    "# Plot the distribution\n",
    "plt.figure(figsize=(8,6))\n",
    "sns.barplot(x=content_type_counts.index, y=content_type_counts.values)\n",
    "plt.title('Content Type Distribution')\n",
    "plt.xlabel('Content Type')\n",
    "plt.ylabel('Number of Titles')\n",
    "plt.show()"
   ]
  },
  {
   "cell_type": "raw",
   "id": "5f26028e",
   "metadata": {},
   "source": [
    "Insight: From the above graph, we can see that movies make up the majority of the content on Netflix, with TV shows being a significant but smaller portion of the content.\n",
    "\n",
    "Recommendation: Since movies are the most popular type of content on Netflix, the platform can consider investing more resources into producing high-quality movies to attract more viewers."
   ]
  },
  {
   "cell_type": "markdown",
   "id": "49b8704d",
   "metadata": {},
   "source": [
    "# 2. Top countries with most content: Netflix offers content from many countries around the world, A horizontal bar chart below shows the top 10 countries with the most content on the platform."
   ]
  },
  {
   "cell_type": "code",
   "execution_count": 128,
   "id": "b52394ae",
   "metadata": {},
   "outputs": [
    {
     "data": {
      "image/png": "[encoded data removed]",
      "text/plain": [
       "<Figure size 800x600 with 1 Axes>"
      ]
     },
     "metadata": {},
     "output_type": "display_data"
    }
   ],
   "source": [
    "country_counts = df['Country'].value_counts().sort_values(ascending=False)[:10]\n",
    "\n",
    "# Plot the distribution\n",
    "plt.figure(figsize=(8,6))\n",
    "sns.barplot(x=country_counts.values, y=country_counts.index)\n",
    "plt.title('Top 10 Countries with Most Content')\n",
    "plt.xlabel('Number of Titles')\n",
    "plt.ylabel('Country')\n",
    "plt.show()"
   ]
  },
  {
   "cell_type": "raw",
   "id": "a49e9e41",
   "metadata": {},
   "source": [
    "Insight: From the above graph, we can see that the United States has the most content on Netflix, followed by India, the United Kingdom, and Canada.\n",
    "\n",
    "Recommendation: Since India is the second-largest producer of content on Netflix, the platform can consider producing more content from India to cater to the large Indian audience and potentially attract more viewers from other countries as well."
   ]
  },
  {
   "cell_type": "markdown",
   "id": "555a8d4c",
   "metadata": {},
   "source": [
    "# 3. Distribution of release year: The release year of a title can indicate how recent or old it is, A histogram below shows the distribution of release years."
   ]
  },
  {
   "cell_type": "code",
   "execution_count": 129,
   "id": "f3b5ecd0",
   "metadata": {},
   "outputs": [
    {
     "data": {
      "image/png": "[encoded data removed]",
      "text/plain": [
       "<Figure size 1000x600 with 1 Axes>"
      ]
     },
     "metadata": {},
     "output_type": "display_data"
    }
   ],
   "source": [
    "plt.figure(figsize=(10,6))\n",
    "sns.histplot(df['Release_year'], bins=50)\n",
    "plt.title('Distribution of Release Year')\n",
    "plt.xlabel('Release Year')\n",
    "plt.ylabel('Number of Titles')\n",
    "plt.show()"
   ]
  },
  {
   "cell_type": "raw",
   "id": "e1f6ed8b",
   "metadata": {},
   "source": [
    "Insight: From the above graph, we can see that the number of titles on Netflix has been steadily increasing over the years, with a significant jump in the number of titles starting from around 2012.\n",
    "\n",
    "Recommendation: Since the number of titles on Netflix has been increasing over the years, the platform can consider investing more resources into producing high-quality content to maintain this growth trajectory and keep its viewers engaged."
   ]
  },
  {
   "cell_type": "markdown",
   "id": "46a69685",
   "metadata": {},
   "source": [
    "# 4. Distribution of release years of movies and TV shows on Netflix: A histogram below shows the distribution"
   ]
  },
  {
   "cell_type": "code",
   "execution_count": 130,
   "id": "f65941e0",
   "metadata": {},
   "outputs": [
    {
     "data": {
      "image/png": "[encoded data removed]",
      "text/plain": [
       "<Figure size 640x480 with 1 Axes>"
      ]
     },
     "metadata": {},
     "output_type": "display_data"
    }
   ],
   "source": [
    "plt.hist(df[df['Type']=='Movie']['Release_year'], bins=30, alpha=0.5, label='Movies')\n",
    "plt.hist(df[df['Type']=='TV Show']['Release_year'], bins=30, alpha=0.5, label='TV Shows')\n",
    "plt.xlabel('Release Year')\n",
    "plt.ylabel('Count')\n",
    "plt.title('Distribution of Release Years')\n",
    "plt.legend(loc='upper left')\n",
    "plt.show()"
   ]
  },
  {
   "cell_type": "raw",
   "id": "1cd6880f",
   "metadata": {},
   "source": [
    "Insight: From this histogram, we can see that Netflix has a large number of movies and TV shows from the 2010s decade. This could indicate that customers prefer newer content.\n",
    "\n",
    "Recommendation: Netflix need to focus on acquiring more recent titles to attract more customers.Netflix may want to consider producing more original content to distinguish themselves from competitors and increase customer loyalty."
   ]
  },
  {
   "cell_type": "markdown",
   "id": "7a8efa0e",
   "metadata": {},
   "source": [
    "# Question - Answering"
   ]
  },
  {
   "cell_type": "markdown",
   "id": "c493c0d8",
   "metadata": {},
   "source": [
    "# a. Which are the top 5 directors who produce most of the movies only?"
   ]
  },
  {
   "cell_type": "code",
   "execution_count": 131,
   "id": "94f4967b",
   "metadata": {},
   "outputs": [
    {
     "data": {
      "text/plain": [
       "Unknown                   171\n",
       "Rajiv Chilaka              19\n",
       "Raúl Campos, Jan Suter     18\n",
       "Suhas Kadav                16\n",
       "Marcus Raboy               15\n",
       "Name: Director, dtype: int64"
      ]
     },
     "execution_count": 131,
     "metadata": {},
     "output_type": "execute_result"
    }
   ],
   "source": [
    "# filter data to only include movies\n",
    "movies = df[df['Type'] == 'Movie']\n",
    "\n",
    "# count number of movies produced by each director\n",
    "director_counts = movies['Director'].value_counts()\n",
    "\n",
    "# select top 5 directors\n",
    "top_directors = director_counts.head(5)\n",
    "\n",
    "# print top directors\n",
    "top_directors"
   ]
  },
  {
   "cell_type": "markdown",
   "id": "8d8ae039",
   "metadata": {},
   "source": [
    "Visualization"
   ]
  },
  {
   "cell_type": "code",
   "execution_count": 135,
   "id": "3d32c8e1",
   "metadata": {},
   "outputs": [
    {
     "data": {
      "image/png": "[encoded data removed]",
      "text/plain": [
       "<Figure size 1200x600 with 1 Axes>"
      ]
     },
     "metadata": {},
     "output_type": "display_data"
    }
   ],
   "source": [
    "plt.figure(figsize=(12,6))\n",
    "plt.bar(top_directors.index, top_directors.values)\n",
    "plt.title('Top 5 Directors who produced most of the movies only')\n",
    "plt.xlabel('Directors')\n",
    "plt.ylabel('Number of movies produced')\n",
    "plt.show()"
   ]
  },
  {
   "cell_type": "markdown",
   "id": "9fdc5e09",
   "metadata": {},
   "source": [
    "# b. Which are the top 5 genres which are liked by people or here liking means listed on the portal of Netflix (you can find a count for each genre and list the top 5 genres) for movies and TV shows?"
   ]
  },
  {
   "cell_type": "code",
   "execution_count": 91,
   "id": "cf858023",
   "metadata": {},
   "outputs": [
    {
     "data": {
      "text/plain": [
       "Dramas, International Movies                        362\n",
       "Documentaries                                       357\n",
       "Stand-Up Comedy                                     334\n",
       "Comedies, Dramas, International Movies              274\n",
       "Dramas, Independent Movies, International Movies    252\n",
       "Name: Genres, dtype: int64"
      ]
     },
     "execution_count": 91,
     "metadata": {},
     "output_type": "execute_result"
    }
   ],
   "source": [
    "# count number of times each genre appears\n",
    "genre_counts = df['Genres'].value_counts()\n",
    "\n",
    "# select top 5 genres\n",
    "top_genres = genre_counts.head(5)\n",
    "\n",
    "# print top genres\n",
    "top_genres"
   ]
  },
  {
   "cell_type": "markdown",
   "id": "cca93866",
   "metadata": {},
   "source": [
    "Visualization"
   ]
  },
  {
   "cell_type": "code",
   "execution_count": 140,
   "id": "cac11ea0",
   "metadata": {},
   "outputs": [
    {
     "data": {
      "image/png": "[encoded data removed]",
      "text/plain": [
       "<Figure size 2500x1000 with 1 Axes>"
      ]
     },
     "metadata": {},
     "output_type": "display_data"
    }
   ],
   "source": [
    "plt.figure(figsize=(25, 10))\n",
    "plt.bar(top_genres.index, top_genres.values)\n",
    "plt.title('Top 5 Genres Liked by People')\n",
    "plt.xlabel('Genre')\n",
    "plt.ylabel('Count')\n",
    "plt.show()"
   ]
  },
  {
   "cell_type": "markdown",
   "id": "70513b80",
   "metadata": {},
   "source": [
    "# c. Which 2 directors should Netflix collaborate with more based on the increase in their movies or tv shows over the past years?"
   ]
  },
  {
   "cell_type": "code",
   "execution_count": 141,
   "id": "063c5d62",
   "metadata": {},
   "outputs": [
    {
     "data": {
      "text/html": [
       "<div>\n",
       "<style scoped>\n",
       "    .dataframe tbody tr th:only-of-type {\n",
       "        vertical-align: middle;\n",
       "    }\n",
       "\n",
       "    .dataframe tbody tr th {\n",
       "        vertical-align: top;\n",
       "    }\n",
       "\n",
       "    .dataframe thead th {\n",
       "        text-align: right;\n",
       "    }\n",
       "</style>\n",
       "<table border=\"1\" class=\"dataframe\">\n",
       "  <thead>\n",
       "    <tr style=\"text-align: right;\">\n",
       "      <th></th>\n",
       "      <th>Director</th>\n",
       "      <th>Release_year</th>\n",
       "      <th>Count</th>\n",
       "    </tr>\n",
       "  </thead>\n",
       "  <tbody>\n",
       "    <tr>\n",
       "      <th>0</th>\n",
       "      <td>A. L. Vijay</td>\n",
       "      <td>2016</td>\n",
       "      <td>1</td>\n",
       "    </tr>\n",
       "    <tr>\n",
       "      <th>1</th>\n",
       "      <td>A. L. Vijay</td>\n",
       "      <td>2019</td>\n",
       "      <td>1</td>\n",
       "    </tr>\n",
       "    <tr>\n",
       "      <th>2</th>\n",
       "      <td>A. Raajdheep</td>\n",
       "      <td>2020</td>\n",
       "      <td>1</td>\n",
       "    </tr>\n",
       "    <tr>\n",
       "      <th>3</th>\n",
       "      <td>A. Salaam</td>\n",
       "      <td>1975</td>\n",
       "      <td>1</td>\n",
       "    </tr>\n",
       "    <tr>\n",
       "      <th>4</th>\n",
       "      <td>A.R. Murugadoss</td>\n",
       "      <td>2017</td>\n",
       "      <td>1</td>\n",
       "    </tr>\n",
       "    <tr>\n",
       "      <th>...</th>\n",
       "      <td>...</td>\n",
       "      <td>...</td>\n",
       "      <td>...</td>\n",
       "    </tr>\n",
       "    <tr>\n",
       "      <th>5946</th>\n",
       "      <td>Óskar Thór Axelsson</td>\n",
       "      <td>2017</td>\n",
       "      <td>1</td>\n",
       "    </tr>\n",
       "    <tr>\n",
       "      <th>5947</th>\n",
       "      <td>Ömer Faruk Sorak</td>\n",
       "      <td>2004</td>\n",
       "      <td>1</td>\n",
       "    </tr>\n",
       "    <tr>\n",
       "      <th>5948</th>\n",
       "      <td>Ömer Faruk Sorak</td>\n",
       "      <td>2011</td>\n",
       "      <td>1</td>\n",
       "    </tr>\n",
       "    <tr>\n",
       "      <th>5949</th>\n",
       "      <td>Şenol Sönmez</td>\n",
       "      <td>2015</td>\n",
       "      <td>1</td>\n",
       "    </tr>\n",
       "    <tr>\n",
       "      <th>5950</th>\n",
       "      <td>Şenol Sönmez</td>\n",
       "      <td>2019</td>\n",
       "      <td>1</td>\n",
       "    </tr>\n",
       "  </tbody>\n",
       "</table>\n",
       "<p>5951 rows × 3 columns</p>\n",
       "</div>"
      ],
      "text/plain": [
       "                 Director  Release_year  Count\n",
       "0             A. L. Vijay          2016      1\n",
       "1             A. L. Vijay          2019      1\n",
       "2            A. Raajdheep          2020      1\n",
       "3               A. Salaam          1975      1\n",
       "4         A.R. Murugadoss          2017      1\n",
       "...                   ...           ...    ...\n",
       "5946  Óskar Thór Axelsson          2017      1\n",
       "5947     Ömer Faruk Sorak          2004      1\n",
       "5948     Ömer Faruk Sorak          2011      1\n",
       "5949         Şenol Sönmez          2015      1\n",
       "5950         Şenol Sönmez          2019      1\n",
       "\n",
       "[5951 rows x 3 columns]"
      ]
     },
     "execution_count": 141,
     "metadata": {},
     "output_type": "execute_result"
    }
   ],
   "source": [
    "# Group the dataset by director and count the number of movies and TV shows they have worked on in each year\n",
    "\n",
    "director_counts = df.groupby([\"Director\", \"Release_year\"])[\"Title\"].count().reset_index()\n",
    "director_counts.columns = [\"Director\", \"Release_year\", \"Count\"]\n",
    "director_counts"
   ]
  },
  {
   "cell_type": "code",
   "execution_count": 142,
   "id": "96de48a2",
   "metadata": {},
   "outputs": [
    {
     "data": {
      "text/html": [
       "<div>\n",
       "<style scoped>\n",
       "    .dataframe tbody tr th:only-of-type {\n",
       "        vertical-align: middle;\n",
       "    }\n",
       "\n",
       "    .dataframe tbody tr th {\n",
       "        vertical-align: top;\n",
       "    }\n",
       "\n",
       "    .dataframe thead th {\n",
       "        text-align: right;\n",
       "    }\n",
       "</style>\n",
       "<table border=\"1\" class=\"dataframe\">\n",
       "  <thead>\n",
       "    <tr style=\"text-align: right;\">\n",
       "      <th></th>\n",
       "      <th>Director</th>\n",
       "      <th>Change</th>\n",
       "    </tr>\n",
       "  </thead>\n",
       "  <tbody>\n",
       "    <tr>\n",
       "      <th>4303</th>\n",
       "      <td>Unknown</td>\n",
       "      <td>261</td>\n",
       "    </tr>\n",
       "    <tr>\n",
       "      <th>3443</th>\n",
       "      <td>Raúl Campos, Jan Suter</td>\n",
       "      <td>9</td>\n",
       "    </tr>\n",
       "    <tr>\n",
       "      <th>1586</th>\n",
       "      <td>Hidenori Inoue</td>\n",
       "      <td>4</td>\n",
       "    </tr>\n",
       "    <tr>\n",
       "      <th>2701</th>\n",
       "      <td>Matt Askem</td>\n",
       "      <td>3</td>\n",
       "    </tr>\n",
       "    <tr>\n",
       "      <th>4046</th>\n",
       "      <td>Suhas Kadav</td>\n",
       "      <td>2</td>\n",
       "    </tr>\n",
       "    <tr>\n",
       "      <th>...</th>\n",
       "      <td>...</td>\n",
       "      <td>...</td>\n",
       "    </tr>\n",
       "    <tr>\n",
       "      <th>553</th>\n",
       "      <td>Blair Simmons</td>\n",
       "      <td>-1</td>\n",
       "    </tr>\n",
       "    <tr>\n",
       "      <th>3825</th>\n",
       "      <td>Sermiyan Midyat</td>\n",
       "      <td>-1</td>\n",
       "    </tr>\n",
       "    <tr>\n",
       "      <th>462</th>\n",
       "      <td>Barak Goodman</td>\n",
       "      <td>-1</td>\n",
       "    </tr>\n",
       "    <tr>\n",
       "      <th>2810</th>\n",
       "      <td>Michael McKay</td>\n",
       "      <td>-2</td>\n",
       "    </tr>\n",
       "    <tr>\n",
       "      <th>2472</th>\n",
       "      <td>Lucas Margutti</td>\n",
       "      <td>-2</td>\n",
       "    </tr>\n",
       "  </tbody>\n",
       "</table>\n",
       "<p>4529 rows × 2 columns</p>\n",
       "</div>"
      ],
      "text/plain": [
       "                    Director  Change\n",
       "4303                 Unknown     261\n",
       "3443  Raúl Campos, Jan Suter       9\n",
       "1586          Hidenori Inoue       4\n",
       "2701              Matt Askem       3\n",
       "4046             Suhas Kadav       2\n",
       "...                      ...     ...\n",
       "553            Blair Simmons      -1\n",
       "3825         Sermiyan Midyat      -1\n",
       "462            Barak Goodman      -1\n",
       "2810           Michael McKay      -2\n",
       "2472          Lucas Margutti      -2\n",
       "\n",
       "[4529 rows x 2 columns]"
      ]
     },
     "execution_count": 142,
     "metadata": {},
     "output_type": "execute_result"
    }
   ],
   "source": [
    "# Sort the directors by the change in the number of movies and TV shows they have worked on over the past years\n",
    "\n",
    "director_changes = []\n",
    "for director in director_counts[\"Director\"].unique():\n",
    "    counts = director_counts[director_counts[\"Director\"] == director][\"Count\"]\n",
    "    change = counts.iloc[-1] - counts.iloc[0]\n",
    "    director_changes.append({\"Director\": director, \"Change\": change})\n",
    "\n",
    "sorted_directors = pd.DataFrame(director_changes).sort_values(\"Change\", ascending=False)\n",
    "sorted_directors"
   ]
  },
  {
   "cell_type": "code",
   "execution_count": 143,
   "id": "89b4217a",
   "metadata": {},
   "outputs": [
    {
     "data": {
      "text/html": [
       "<div>\n",
       "<style scoped>\n",
       "    .dataframe tbody tr th:only-of-type {\n",
       "        vertical-align: middle;\n",
       "    }\n",
       "\n",
       "    .dataframe tbody tr th {\n",
       "        vertical-align: top;\n",
       "    }\n",
       "\n",
       "    .dataframe thead th {\n",
       "        text-align: right;\n",
       "    }\n",
       "</style>\n",
       "<table border=\"1\" class=\"dataframe\">\n",
       "  <thead>\n",
       "    <tr style=\"text-align: right;\">\n",
       "      <th></th>\n",
       "      <th>Director</th>\n",
       "      <th>Change</th>\n",
       "    </tr>\n",
       "  </thead>\n",
       "  <tbody>\n",
       "    <tr>\n",
       "      <th>4303</th>\n",
       "      <td>Unknown</td>\n",
       "      <td>261</td>\n",
       "    </tr>\n",
       "    <tr>\n",
       "      <th>3443</th>\n",
       "      <td>Raúl Campos, Jan Suter</td>\n",
       "      <td>9</td>\n",
       "    </tr>\n",
       "    <tr>\n",
       "      <th>1586</th>\n",
       "      <td>Hidenori Inoue</td>\n",
       "      <td>4</td>\n",
       "    </tr>\n",
       "  </tbody>\n",
       "</table>\n",
       "</div>"
      ],
      "text/plain": [
       "                    Director  Change\n",
       "4303                 Unknown     261\n",
       "3443  Raúl Campos, Jan Suter       9\n",
       "1586          Hidenori Inoue       4"
      ]
     },
     "execution_count": 143,
     "metadata": {},
     "output_type": "execute_result"
    }
   ],
   "source": [
    "# Get the top 2 directors with the most increase in movies and TV shows over the past years\n",
    "\n",
    "top_directors = sorted_directors.head(3) # Displaying top 3 directors because the 1st director is \"unknown\"\n",
    "top_directors"
   ]
  },
  {
   "cell_type": "markdown",
   "id": "c5c9679a",
   "metadata": {},
   "source": [
    "# d. Which are the top 10 actors who are liked by people and have the most content on the Netflix OTT platform."
   ]
  },
  {
   "cell_type": "code",
   "execution_count": 144,
   "id": "c665b4f5",
   "metadata": {},
   "outputs": [
    {
     "data": {
      "text/plain": [
       "Unknown             729\n",
       "Anupam Kher          43\n",
       "Shah Rukh Khan       35\n",
       "Julie Tejwani        33\n",
       "Naseeruddin Shah     32\n",
       "Takahiro Sakurai     32\n",
       "Rupa Bhimani         31\n",
       "Akshay Kumar         30\n",
       "Om Puri              30\n",
       "Yuki Kaji            29\n",
       "Name: Cast, dtype: int64"
      ]
     },
     "execution_count": 144,
     "metadata": {},
     "output_type": "execute_result"
    }
   ],
   "source": [
    "# Count the number of times each actor appears in the \"Cast\" column\n",
    "actor_counts = df['Cast'].str.split(', ').explode().value_counts()\n",
    "\n",
    "# Get the top 10 actors with the highest counts\n",
    "top_10_actors = actor_counts.head(10)\n",
    "\n",
    "top_10_actors"
   ]
  },
  {
   "cell_type": "markdown",
   "id": "d3a5a69a",
   "metadata": {},
   "source": [
    "Visualization"
   ]
  },
  {
   "cell_type": "code",
   "execution_count": 145,
   "id": "db3fbfef",
   "metadata": {},
   "outputs": [
    {
     "data": {
      "image/png": "[encoded data removed]",
      "text/plain": [
       "<Figure size 800x600 with 1 Axes>"
      ]
     },
     "metadata": {},
     "output_type": "display_data"
    }
   ],
   "source": [
    "plt.figure(figsize=(8,6))\n",
    "sns.barplot(x=top_10_actors.values, y=top_10_actors.index)\n",
    "plt.title('Top Actors on Netflix')\n",
    "plt.xlabel('Number of Titles')\n",
    "plt.ylabel('Actors')\n",
    "plt.show()"
   ]
  },
  {
   "cell_type": "markdown",
   "id": "4f9e17fe",
   "metadata": {},
   "source": [
    "# e. Which 2 actors should Netflix collaborate with more based on the increase in their movies or tv shows over the past years?"
   ]
  },
  {
   "cell_type": "code",
   "execution_count": 146,
   "id": "61fa68de",
   "metadata": {},
   "outputs": [
    {
     "data": {
      "text/html": [
       "<div>\n",
       "<style scoped>\n",
       "    .dataframe tbody tr th:only-of-type {\n",
       "        vertical-align: middle;\n",
       "    }\n",
       "\n",
       "    .dataframe tbody tr th {\n",
       "        vertical-align: top;\n",
       "    }\n",
       "\n",
       "    .dataframe thead th {\n",
       "        text-align: right;\n",
       "    }\n",
       "</style>\n",
       "<table border=\"1\" class=\"dataframe\">\n",
       "  <thead>\n",
       "    <tr style=\"text-align: right;\">\n",
       "      <th></th>\n",
       "      <th>Type</th>\n",
       "      <th>Title</th>\n",
       "      <th>Director</th>\n",
       "      <th>Cast</th>\n",
       "      <th>Country</th>\n",
       "      <th>Release_year</th>\n",
       "      <th>Genres</th>\n",
       "    </tr>\n",
       "  </thead>\n",
       "  <tbody>\n",
       "    <tr>\n",
       "      <th>0</th>\n",
       "      <td>Movie</td>\n",
       "      <td>Dick Johnson Is Dead</td>\n",
       "      <td>Kirsten Johnson</td>\n",
       "      <td>[Unknown]</td>\n",
       "      <td>United States</td>\n",
       "      <td>2020</td>\n",
       "      <td>Documentaries</td>\n",
       "    </tr>\n",
       "    <tr>\n",
       "      <th>1</th>\n",
       "      <td>TV Show</td>\n",
       "      <td>Blood &amp; Water</td>\n",
       "      <td>Unknown</td>\n",
       "      <td>[Ama Qamata, Khosi Ngema, Gail Mabalane, Thaba...</td>\n",
       "      <td>South Africa</td>\n",
       "      <td>2021</td>\n",
       "      <td>International TV Shows, TV Dramas, TV Mysteries</td>\n",
       "    </tr>\n",
       "    <tr>\n",
       "      <th>2</th>\n",
       "      <td>TV Show</td>\n",
       "      <td>Ganglands</td>\n",
       "      <td>Julien Leclercq</td>\n",
       "      <td>[Sami Bouajila, Tracy Gotoas, Samuel Jouy, Nab...</td>\n",
       "      <td>Unknown</td>\n",
       "      <td>2021</td>\n",
       "      <td>Crime TV Shows, International TV Shows, TV Act...</td>\n",
       "    </tr>\n",
       "    <tr>\n",
       "      <th>4</th>\n",
       "      <td>TV Show</td>\n",
       "      <td>Kota Factory</td>\n",
       "      <td>Unknown</td>\n",
       "      <td>[Mayur More, Jitendra Kumar, Ranjan Raj, Alam ...</td>\n",
       "      <td>India</td>\n",
       "      <td>2021</td>\n",
       "      <td>International TV Shows, Romantic TV Shows, TV ...</td>\n",
       "    </tr>\n",
       "    <tr>\n",
       "      <th>5</th>\n",
       "      <td>TV Show</td>\n",
       "      <td>Midnight Mass</td>\n",
       "      <td>Mike Flanagan</td>\n",
       "      <td>[Kate Siegel, Zach Gilford, Hamish Linklater, ...</td>\n",
       "      <td>Unknown</td>\n",
       "      <td>2021</td>\n",
       "      <td>TV Dramas, TV Horror, TV Mysteries</td>\n",
       "    </tr>\n",
       "  </tbody>\n",
       "</table>\n",
       "</div>"
      ],
      "text/plain": [
       "      Type                 Title         Director  \\\n",
       "0    Movie  Dick Johnson Is Dead  Kirsten Johnson   \n",
       "1  TV Show         Blood & Water          Unknown   \n",
       "2  TV Show             Ganglands  Julien Leclercq   \n",
       "4  TV Show          Kota Factory          Unknown   \n",
       "5  TV Show         Midnight Mass    Mike Flanagan   \n",
       "\n",
       "                                                Cast        Country  \\\n",
       "0                                          [Unknown]  United States   \n",
       "1  [Ama Qamata, Khosi Ngema, Gail Mabalane, Thaba...   South Africa   \n",
       "2  [Sami Bouajila, Tracy Gotoas, Samuel Jouy, Nab...        Unknown   \n",
       "4  [Mayur More, Jitendra Kumar, Ranjan Raj, Alam ...          India   \n",
       "5  [Kate Siegel, Zach Gilford, Hamish Linklater, ...        Unknown   \n",
       "\n",
       "   Release_year                                             Genres  \n",
       "0          2020                                      Documentaries  \n",
       "1          2021    International TV Shows, TV Dramas, TV Mysteries  \n",
       "2          2021  Crime TV Shows, International TV Shows, TV Act...  \n",
       "4          2021  International TV Shows, Romantic TV Shows, TV ...  \n",
       "5          2021                 TV Dramas, TV Horror, TV Mysteries  "
      ]
     },
     "execution_count": 146,
     "metadata": {},
     "output_type": "execute_result"
    }
   ],
   "source": [
    "# Split the Cast column into multiple actors\n",
    "df[\"Cast\"] = df[\"Cast\"].str.split(\", \")\n",
    "df.head()"
   ]
  },
  {
   "cell_type": "code",
   "execution_count": 147,
   "id": "03151705",
   "metadata": {},
   "outputs": [
    {
     "data": {
      "text/html": [
       "<div>\n",
       "<style scoped>\n",
       "    .dataframe tbody tr th:only-of-type {\n",
       "        vertical-align: middle;\n",
       "    }\n",
       "\n",
       "    .dataframe tbody tr th {\n",
       "        vertical-align: top;\n",
       "    }\n",
       "\n",
       "    .dataframe thead th {\n",
       "        text-align: right;\n",
       "    }\n",
       "</style>\n",
       "<table border=\"1\" class=\"dataframe\">\n",
       "  <thead>\n",
       "    <tr style=\"text-align: right;\">\n",
       "      <th></th>\n",
       "      <th>Type</th>\n",
       "      <th>Title</th>\n",
       "      <th>Director</th>\n",
       "      <th>Cast</th>\n",
       "      <th>Country</th>\n",
       "      <th>Release_year</th>\n",
       "      <th>Genres</th>\n",
       "    </tr>\n",
       "  </thead>\n",
       "  <tbody>\n",
       "    <tr>\n",
       "      <th>0</th>\n",
       "      <td>Movie</td>\n",
       "      <td>Dick Johnson Is Dead</td>\n",
       "      <td>Kirsten Johnson</td>\n",
       "      <td>Unknown</td>\n",
       "      <td>United States</td>\n",
       "      <td>2020</td>\n",
       "      <td>Documentaries</td>\n",
       "    </tr>\n",
       "    <tr>\n",
       "      <th>1</th>\n",
       "      <td>TV Show</td>\n",
       "      <td>Blood &amp; Water</td>\n",
       "      <td>Unknown</td>\n",
       "      <td>Ama Qamata</td>\n",
       "      <td>South Africa</td>\n",
       "      <td>2021</td>\n",
       "      <td>International TV Shows, TV Dramas, TV Mysteries</td>\n",
       "    </tr>\n",
       "    <tr>\n",
       "      <th>1</th>\n",
       "      <td>TV Show</td>\n",
       "      <td>Blood &amp; Water</td>\n",
       "      <td>Unknown</td>\n",
       "      <td>Khosi Ngema</td>\n",
       "      <td>South Africa</td>\n",
       "      <td>2021</td>\n",
       "      <td>International TV Shows, TV Dramas, TV Mysteries</td>\n",
       "    </tr>\n",
       "    <tr>\n",
       "      <th>1</th>\n",
       "      <td>TV Show</td>\n",
       "      <td>Blood &amp; Water</td>\n",
       "      <td>Unknown</td>\n",
       "      <td>Gail Mabalane</td>\n",
       "      <td>South Africa</td>\n",
       "      <td>2021</td>\n",
       "      <td>International TV Shows, TV Dramas, TV Mysteries</td>\n",
       "    </tr>\n",
       "    <tr>\n",
       "      <th>1</th>\n",
       "      <td>TV Show</td>\n",
       "      <td>Blood &amp; Water</td>\n",
       "      <td>Unknown</td>\n",
       "      <td>Thabang Molaba</td>\n",
       "      <td>South Africa</td>\n",
       "      <td>2021</td>\n",
       "      <td>International TV Shows, TV Dramas, TV Mysteries</td>\n",
       "    </tr>\n",
       "  </tbody>\n",
       "</table>\n",
       "</div>"
      ],
      "text/plain": [
       "      Type                 Title         Director            Cast  \\\n",
       "0    Movie  Dick Johnson Is Dead  Kirsten Johnson         Unknown   \n",
       "1  TV Show         Blood & Water          Unknown      Ama Qamata   \n",
       "1  TV Show         Blood & Water          Unknown     Khosi Ngema   \n",
       "1  TV Show         Blood & Water          Unknown   Gail Mabalane   \n",
       "1  TV Show         Blood & Water          Unknown  Thabang Molaba   \n",
       "\n",
       "         Country  Release_year  \\\n",
       "0  United States          2020   \n",
       "1   South Africa          2021   \n",
       "1   South Africa          2021   \n",
       "1   South Africa          2021   \n",
       "1   South Africa          2021   \n",
       "\n",
       "                                            Genres  \n",
       "0                                    Documentaries  \n",
       "1  International TV Shows, TV Dramas, TV Mysteries  \n",
       "1  International TV Shows, TV Dramas, TV Mysteries  \n",
       "1  International TV Shows, TV Dramas, TV Mysteries  \n",
       "1  International TV Shows, TV Dramas, TV Mysteries  "
      ]
     },
     "execution_count": 147,
     "metadata": {},
     "output_type": "execute_result"
    }
   ],
   "source": [
    "# Explode the Cast column to create a new row for each actor in a movie or TV show\n",
    "df = df.explode(\"Cast\")\n",
    "df.head()"
   ]
  },
  {
   "cell_type": "code",
   "execution_count": 148,
   "id": "cdaaddad",
   "metadata": {},
   "outputs": [
    {
     "data": {
      "text/html": [
       "<div>\n",
       "<style scoped>\n",
       "    .dataframe tbody tr th:only-of-type {\n",
       "        vertical-align: middle;\n",
       "    }\n",
       "\n",
       "    .dataframe tbody tr th {\n",
       "        vertical-align: top;\n",
       "    }\n",
       "\n",
       "    .dataframe thead th {\n",
       "        text-align: right;\n",
       "    }\n",
       "</style>\n",
       "<table border=\"1\" class=\"dataframe\">\n",
       "  <thead>\n",
       "    <tr style=\"text-align: right;\">\n",
       "      <th></th>\n",
       "      <th>Actor</th>\n",
       "      <th>Release_year</th>\n",
       "      <th>Count</th>\n",
       "    </tr>\n",
       "  </thead>\n",
       "  <tbody>\n",
       "    <tr>\n",
       "      <th>0</th>\n",
       "      <td>Jr.</td>\n",
       "      <td>2017</td>\n",
       "      <td>1</td>\n",
       "    </tr>\n",
       "    <tr>\n",
       "      <th>1</th>\n",
       "      <td>Jr.</td>\n",
       "      <td>2020</td>\n",
       "      <td>1</td>\n",
       "    </tr>\n",
       "    <tr>\n",
       "      <th>2</th>\n",
       "      <td>\"Riley\" Lakdhar Dridi</td>\n",
       "      <td>2019</td>\n",
       "      <td>1</td>\n",
       "    </tr>\n",
       "    <tr>\n",
       "      <th>3</th>\n",
       "      <td>'Najite Dede</td>\n",
       "      <td>2013</td>\n",
       "      <td>1</td>\n",
       "    </tr>\n",
       "    <tr>\n",
       "      <th>4</th>\n",
       "      <td>'Najite Dede</td>\n",
       "      <td>2016</td>\n",
       "      <td>1</td>\n",
       "    </tr>\n",
       "    <tr>\n",
       "      <th>...</th>\n",
       "      <td>...</td>\n",
       "      <td>...</td>\n",
       "      <td>...</td>\n",
       "    </tr>\n",
       "    <tr>\n",
       "      <th>58073</th>\n",
       "      <td>Şinasi Yurtsever</td>\n",
       "      <td>2015</td>\n",
       "      <td>1</td>\n",
       "    </tr>\n",
       "    <tr>\n",
       "      <th>58074</th>\n",
       "      <td>Şükran Ovalı</td>\n",
       "      <td>2016</td>\n",
       "      <td>1</td>\n",
       "    </tr>\n",
       "    <tr>\n",
       "      <th>58075</th>\n",
       "      <td>Şükrü Özyıldız</td>\n",
       "      <td>2014</td>\n",
       "      <td>1</td>\n",
       "    </tr>\n",
       "    <tr>\n",
       "      <th>58076</th>\n",
       "      <td>Şükrü Özyıldız</td>\n",
       "      <td>2016</td>\n",
       "      <td>1</td>\n",
       "    </tr>\n",
       "    <tr>\n",
       "      <th>58077</th>\n",
       "      <td>Ṣọpẹ́ Dìrísù</td>\n",
       "      <td>2020</td>\n",
       "      <td>1</td>\n",
       "    </tr>\n",
       "  </tbody>\n",
       "</table>\n",
       "<p>58078 rows × 3 columns</p>\n",
       "</div>"
      ],
      "text/plain": [
       "                       Actor  Release_year  Count\n",
       "0                        Jr.          2017      1\n",
       "1                        Jr.          2020      1\n",
       "2      \"Riley\" Lakdhar Dridi          2019      1\n",
       "3               'Najite Dede          2013      1\n",
       "4               'Najite Dede          2016      1\n",
       "...                      ...           ...    ...\n",
       "58073       Şinasi Yurtsever          2015      1\n",
       "58074           Şükran Ovalı          2016      1\n",
       "58075         Şükrü Özyıldız          2014      1\n",
       "58076         Şükrü Özyıldız          2016      1\n",
       "58077           Ṣọpẹ́ Dìrísù          2020      1\n",
       "\n",
       "[58078 rows x 3 columns]"
      ]
     },
     "execution_count": 148,
     "metadata": {},
     "output_type": "execute_result"
    }
   ],
   "source": [
    "# Group the dataset by actor and count the number of movies and TV shows they have worked on in each year\n",
    "actor_counts = df.groupby([\"Cast\", \"Release_year\"])[\"Title\"].count().reset_index()\n",
    "actor_counts.columns = [\"Actor\", \"Release_year\", \"Count\"]\n",
    "actor_counts"
   ]
  },
  {
   "cell_type": "code",
   "execution_count": 149,
   "id": "a5102495",
   "metadata": {},
   "outputs": [
    {
     "data": {
      "text/html": [
       "<div>\n",
       "<style scoped>\n",
       "    .dataframe tbody tr th:only-of-type {\n",
       "        vertical-align: middle;\n",
       "    }\n",
       "\n",
       "    .dataframe tbody tr th {\n",
       "        vertical-align: top;\n",
       "    }\n",
       "\n",
       "    .dataframe thead th {\n",
       "        text-align: right;\n",
       "    }\n",
       "</style>\n",
       "<table border=\"1\" class=\"dataframe\">\n",
       "  <thead>\n",
       "    <tr style=\"text-align: right;\">\n",
       "      <th></th>\n",
       "      <th>Actor</th>\n",
       "      <th>Change</th>\n",
       "    </tr>\n",
       "  </thead>\n",
       "  <tbody>\n",
       "    <tr>\n",
       "      <th>34214</th>\n",
       "      <td>Unknown</td>\n",
       "      <td>64</td>\n",
       "    </tr>\n",
       "    <tr>\n",
       "      <th>8028</th>\n",
       "      <td>David Spade</td>\n",
       "      <td>9</td>\n",
       "    </tr>\n",
       "    <tr>\n",
       "      <th>10759</th>\n",
       "      <td>Fortune Feimster</td>\n",
       "      <td>9</td>\n",
       "    </tr>\n",
       "    <tr>\n",
       "      <th>20071</th>\n",
       "      <td>London Hughes</td>\n",
       "      <td>8</td>\n",
       "    </tr>\n",
       "    <tr>\n",
       "      <th>17462</th>\n",
       "      <td>Kathleen Barr</td>\n",
       "      <td>6</td>\n",
       "    </tr>\n",
       "    <tr>\n",
       "      <th>...</th>\n",
       "      <td>...</td>\n",
       "      <td>...</td>\n",
       "    </tr>\n",
       "    <tr>\n",
       "      <th>21701</th>\n",
       "      <td>Marsai Martin</td>\n",
       "      <td>-3</td>\n",
       "    </tr>\n",
       "    <tr>\n",
       "      <th>31327</th>\n",
       "      <td>Smith Foreman</td>\n",
       "      <td>-3</td>\n",
       "    </tr>\n",
       "    <tr>\n",
       "      <th>13386</th>\n",
       "      <td>Indrans</td>\n",
       "      <td>-4</td>\n",
       "    </tr>\n",
       "    <tr>\n",
       "      <th>27356</th>\n",
       "      <td>Rajesh Kawa</td>\n",
       "      <td>-5</td>\n",
       "    </tr>\n",
       "    <tr>\n",
       "      <th>15230</th>\n",
       "      <td>Jigna Bharadhwaj</td>\n",
       "      <td>-5</td>\n",
       "    </tr>\n",
       "  </tbody>\n",
       "</table>\n",
       "<p>36440 rows × 2 columns</p>\n",
       "</div>"
      ],
      "text/plain": [
       "                  Actor  Change\n",
       "34214           Unknown      64\n",
       "8028        David Spade       9\n",
       "10759  Fortune Feimster       9\n",
       "20071     London Hughes       8\n",
       "17462     Kathleen Barr       6\n",
       "...                 ...     ...\n",
       "21701     Marsai Martin      -3\n",
       "31327     Smith Foreman      -3\n",
       "13386           Indrans      -4\n",
       "27356       Rajesh Kawa      -5\n",
       "15230  Jigna Bharadhwaj      -5\n",
       "\n",
       "[36440 rows x 2 columns]"
      ]
     },
     "execution_count": 149,
     "metadata": {},
     "output_type": "execute_result"
    }
   ],
   "source": [
    "# Sort the actors by the change in the number of movies and TV shows they have worked on over the past years\n",
    "actor_changes = []\n",
    "for actor in actor_counts[\"Actor\"].unique():\n",
    "    counts = actor_counts[actor_counts[\"Actor\"] == actor][\"Count\"]\n",
    "    change = counts.iloc[-1] - counts.iloc[0]\n",
    "    actor_changes.append({\"Actor\": actor, \"Change\": change})\n",
    "\n",
    "sorted_actors = pd.DataFrame(actor_changes).sort_values(\"Change\", ascending=False)\n",
    "sorted_actors"
   ]
  },
  {
   "cell_type": "code",
   "execution_count": 150,
   "id": "c3cb29de",
   "metadata": {},
   "outputs": [
    {
     "data": {
      "text/html": [
       "<div>\n",
       "<style scoped>\n",
       "    .dataframe tbody tr th:only-of-type {\n",
       "        vertical-align: middle;\n",
       "    }\n",
       "\n",
       "    .dataframe tbody tr th {\n",
       "        vertical-align: top;\n",
       "    }\n",
       "\n",
       "    .dataframe thead th {\n",
       "        text-align: right;\n",
       "    }\n",
       "</style>\n",
       "<table border=\"1\" class=\"dataframe\">\n",
       "  <thead>\n",
       "    <tr style=\"text-align: right;\">\n",
       "      <th></th>\n",
       "      <th>Actor</th>\n",
       "      <th>Change</th>\n",
       "    </tr>\n",
       "  </thead>\n",
       "  <tbody>\n",
       "    <tr>\n",
       "      <th>34214</th>\n",
       "      <td>Unknown</td>\n",
       "      <td>64</td>\n",
       "    </tr>\n",
       "    <tr>\n",
       "      <th>8028</th>\n",
       "      <td>David Spade</td>\n",
       "      <td>9</td>\n",
       "    </tr>\n",
       "    <tr>\n",
       "      <th>10759</th>\n",
       "      <td>Fortune Feimster</td>\n",
       "      <td>9</td>\n",
       "    </tr>\n",
       "    <tr>\n",
       "      <th>20071</th>\n",
       "      <td>London Hughes</td>\n",
       "      <td>8</td>\n",
       "    </tr>\n",
       "  </tbody>\n",
       "</table>\n",
       "</div>"
      ],
      "text/plain": [
       "                  Actor  Change\n",
       "34214           Unknown      64\n",
       "8028        David Spade       9\n",
       "10759  Fortune Feimster       9\n",
       "20071     London Hughes       8"
      ]
     },
     "execution_count": 150,
     "metadata": {},
     "output_type": "execute_result"
    }
   ],
   "source": [
    "# Get the top 2 actors with the most increase in movies and TV shows over the past years\n",
    "\n",
    "top_actors = sorted_actors.head(4) # Displaying top 4 actors because the 1st actor is \"unknown\" & the next two have same change\n",
    "top_actors"
   ]
  },
  {
   "cell_type": "markdown",
   "id": "c1e74419",
   "metadata": {},
   "source": [
    "Visualization"
   ]
  }
 ],
 "metadata": {
  "kernelspec": {
   "display_name": "Python 3 (ipykernel)",
   "language": "python",
   "name": "python3"
  },
  "language_info": {
   "codemirror_mode": {
    "name": "ipython",
    "version": 3
   },
   "file_extension": ".py",
   "mimetype": "text/x-python",
   "name": "python",
   "nbconvert_exporter": "python",
   "pygments_lexer": "ipython3",
   "version": "3.10.8"
  }
 },
 "nbformat": 4,
 "nbformat_minor": 5
}
